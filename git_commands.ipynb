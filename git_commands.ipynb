{
 "cells": [
  {
   "cell_type": "markdown",
   "id": "f50516de",
   "metadata": {},
   "source": [
    "### 1.0 Basic Workflow"
   ]
  },
  {
   "cell_type": "markdown",
   "id": "7494488e",
   "metadata": {},
   "source": [
    "#### 1.1 Version Control\n",
    "\n",
    "Version Control System - tools that manages changes made to files and directories in a project.\n",
    "\n",
    "Git can :\n",
    "\n",
    "- keep track of changes to files\n",
    "- notice conflicts between changes made by different people\n",
    "- synchronize files between different computers\n",
    "\n",
    "Each Git projects has three parts : \n",
    "\n",
    "- (1) the files\n",
    "- (2) the directories that are created and edit directory\n",
    "- (3) extra information that Git records about the project's history\n",
    "\n",
    "A repository is a combination of the three parts of the Git projects.\n",
    "\n",
    "Git stores all of its extra information in a directory called \".git\" located in the root directory of the repository."
   ]
  },
  {
   "cell_type": "code",
   "execution_count": 1,
   "id": "5ced14a0",
   "metadata": {},
   "outputs": [],
   "source": [
    "# Exercise 1 : Suppose the home directory \"/home/repl\" contains a \n",
    "# repository called \"dental,\" which has a subdirectory called \"data\". \n",
    "# Where is information about the hsitory of the files in \n",
    "# \"home/repl/dental/data\" stored?\n",
    "\n",
    "$ /home/repl/dental/.git"
   ]
  },
  {
   "cell_type": "markdown",
   "id": "4564904a",
   "metadata": {},
   "source": [
    "#### 1.2 Check State of Repository\n",
    "\n",
    "Run the command \"git status,\" which displays a list of files that have been modified since the last time changes were saved."
   ]
  },
  {
   "cell_type": "code",
   "execution_count": 2,
   "id": "cce98eeb",
   "metadata": {},
   "outputs": [],
   "source": [
    "# Exercise 2 : In \"dental\" repository. Use \"git status\" to discover\n",
    "# which file(s) have been changed since the last save. Which files\n",
    "# are listed?\n",
    "\n",
    "$ cd dental                                 \n",
    "$ git status\n",
    "#On branch masterChanges not staged for commit:\n",
    "#  (use \"git add <file>...\" to update what will be committed)\n",
    "#  (use \"git checkout -- <file>...\" to discard changes in working directory)\n",
    "\n",
    "#        modified:   report.txt\n",
    "\n",
    "#no changes added to commit (use \"git add\" and/or \"git commit -a\")"
   ]
  },
  {
   "cell_type": "markdown",
   "id": "af26d418",
   "metadata": {},
   "source": [
    "Git has a \"staging area\" in which it stores files with changes one wants to save that haven't been saved yet. \n",
    "\n",
    "Putting files in the staging area is like putting things in a box.\n",
    "\n",
    "Comitting those changes is like putting that box in the mail.\n",
    "\n",
    "Changes can be made to the things in the box, but once it is in the mail, changes cannot be made.\n",
    "\n",
    "\"git status\" shows which files are in the staging area and which files have changes that haven't yet been put there. In order to compare the file as it currently is to what one last saved, one can use \"git diff filename\".\n",
    "\n",
    "\"git diff\" without any filenames will show one all the changes in your repository.\n",
    "\n",
    "\"git diff directory\" will show you the changes to the files in some directory."
   ]
  },
  {
   "cell_type": "markdown",
   "id": "86133439",
   "metadata": {},
   "source": [
    "#### 1.4 Diff\n",
    "\n",
    "Diff - formated display of the differences between two sets of files. \n",
    "\n",
    "Git displays diffs like :\n",
    "\n",
    "diff --git a/report.txt b/report.txt\n",
    "\n",
    "index e713b17..4c0742a 100644\n",
    "\n",
    "--- a/report.txt\n",
    "\n",
    "+++ b/report.txt\n",
    "\n",
    "@@ -1,4 +1,5 @@\n",
    "\n",
    "-# Seasonal Dental Surgeries 2017-18\n",
    "\n",
    "+# Seasonal Dental Surgeries (2017) 2017-18\n",
    "\n",
    "+# TODO: write new summary\n",
    "\n",
    "This shows :\n",
    "\n",
    "- the command used to produce the output (\"diff --git\"). In it, \"a\" and \"b\" are placeholders meaning \"the first version\" and \"the second version.\"\n",
    "- an \"index\" line showing keys into Git's internal database of changes.\n",
    "- \"--- a/report.txt\" and \"+++ b/report.txt\", wherein lines being removed are prefixed with \"-\" and lines being added are prefixed with \"+\".\n",
    "- a line starting with \"@@\" that tells where the changes are being made. The pairs of numbers are \"start line\" and \"number of lines\" (in that section of the file where changes occured.) This diff output indicates changes startiing at line 1, with 5 lines where there were once 4.\n",
    "- a line-by-line listing of the changes with \"-\" showing deletions and \"+\" showing additions. Lines that have not changed are sometimes shown before and after the ones that have in order to give context; when they appear, they do not have either \"+\" or \"-\" in front of them."
   ]
  },
  {
   "cell_type": "markdown",
   "id": "a420366b",
   "metadata": {},
   "source": [
    "#### 1.5 Saving Changes\n",
    "\n",
    "\"git add [filename]\"\n",
    "- add a file to a staging area\n",
    "    \n",
    "\"git diff -r HEAD\"\n",
    "- compare the state of the files with those in the staging area. The \"-r\" flag means \"compare to a particular revision\" and \"HEAD\" is a shortcut meaning \"the most recent commit\".\n",
    "\n",
    "\"git diff -r HEAD path/to/file\"\n",
    "- restrict the results to a single file or directory \n"
   ]
  },
  {
   "cell_type": "code",
   "execution_count": 3,
   "id": "7394d108",
   "metadata": {},
   "outputs": [
    {
     "ename": "SyntaxError",
     "evalue": "invalid syntax (3717608440.py, line 5)",
     "output_type": "error",
     "traceback": [
      "\u001b[0;36m  File \u001b[0;32m\"/var/folders/rk/bh4t4yvn2vs7xq2gvjh418d80005gq/T/ipykernel_66157/3717608440.py\"\u001b[0;36m, line \u001b[0;32m5\u001b[0m\n\u001b[0;31m    $ cd dental\u001b[0m\n\u001b[0m    ^\u001b[0m\n\u001b[0;31mSyntaxError\u001b[0m\u001b[0;31m:\u001b[0m invalid syntax\n"
     ]
    }
   ],
   "source": [
    "# Exercise 3 : In the \"dental\" repository, where /data/northern.csv \n",
    "# has been added tot the staging area. Use \"git diff\" with \"-r\" and\n",
    "# an argument to see how files different from the last saved revision\n",
    "\n",
    "$ cd dental\n",
    "$ git add data/northern.csv\n",
    "$ git diff -r HEAD\n",
    "\n",
    "# Use a single Git command to view the changes in the file that have\n",
    "# been staged (and only that file)\n",
    "\n",
    "$ git diff -r HEAD data/northern.csv\n",
    "\n",
    "# Add \"data/eastern.csv\" to the staging area\n",
    "\n",
    "$ git add /data/eastern.csv"
   ]
  },
  {
   "cell_type": "markdown",
   "id": "e98ffdd7",
   "metadata": {},
   "source": [
    "#### 1.6 Edit File\n",
    "\n",
    "Using nano as the text editor.\n",
    "\n",
    "\"nano filename\"\n",
    "- open filename for editing or create the file\n",
    "\n",
    "\"ctrl-K\"\n",
    "- delete a line\n",
    "\n",
    "\"ctrl-U\"\n",
    "- un-delete a line\n",
    "\n",
    "\"ctrl-O\"\n",
    "- save the file \n",
    "\n",
    "\"ctrl-X\"\n",
    "- exit the editor"
   ]
  },
  {
   "cell_type": "markdown",
   "id": "fae906ca",
   "metadata": {},
   "source": [
    "#### 1.7 Commit Changes\n",
    "\n",
    "\"git commit\"\n",
    "- to save the changes in the staging area\n",
    "\n",
    "It always saves everything that is in the staging area as one unit.\n",
    "\n",
    "When one commits changes, Git requires one to enter a log message. This serves the same purpose as a comment in the program : it tells the next person to examine the repository why the change was made.\n",
    "\n",
    "By default, Git launches a text editor to let one write this message. To keep things simple, one can use :\n",
    "\n",
    "\"-m \"some message in quotes\"\" \n",
    "\n",
    "on the command line to enter a single-line message like this :\n",
    "\n",
    "\"git commit -m \"Program appears to have become self-aware.\"\n",
    "\n",
    "\"--amend\" flag\n",
    "- can change the commit log message\n",
    "\n",
    "\"git commit --amend - m \"new message\""
   ]
  },
  {
   "cell_type": "code",
   "execution_count": null,
   "id": "dcf727f0",
   "metadata": {},
   "outputs": [],
   "source": [
    "# Exercise 4 : In the \"dental\" repository, \"report.txt\" has been\n",
    "# added to the staging area. Use a Git command to check the status\n",
    "# of the repository\n",
    "\n",
    "$ cd dental\n",
    "$ git add report.txt\n",
    "$ git status\n",
    "\n",
    "# Commit the changes in the staging area with the message \"Adding\n",
    "# a reference.\"\n",
    "\n",
    "$ git commit -m \"Adding a reference\""
   ]
  },
  {
   "cell_type": "markdown",
   "id": "cca6dfa3",
   "metadata": {},
   "source": [
    "#### 1.8 View Repository's History\n",
    "\n",
    "\"git log\"\n",
    "- used to view the log of the project's history\n",
    "- when run, Git automatically uses a page to show one screen of output at a time. Press the space bar to go down a page or the \"q\" key to quit.\n",
    "\n",
    "Log enteries are shown most recent first, and look like this :\n",
    "\n",
    "commit 0430705487381195993bac9c21512ccfb511056d\n",
    "\n",
    "Author: Rep Loop <repl@datacamp.com>\n",
    "\n",
    "Date:   Wed Sep 20 13:42:26 2017 +0000\n",
    "\n",
    "    Added year to report title.\n",
    "    \n",
    "- \"commit\" line displays a has (a unique ID for the commit)\n",
    "- the other lines tells who made the change, when, and what log message was written for the change\n",
    "\n",
    "\"git log path\"\n",
    "- inspect only the changes to particular files or directories\n",
    "- log for a file shows changes made to that file; the log for a directory shows when files were added or deleted in that directory, rather than when the contents of the directory's files were changed"
   ]
  },
  {
   "cell_type": "markdown",
   "id": "8a8cabfa",
   "metadata": {},
   "source": [
    "### 2.0 Repositories"
   ]
  },
  {
   "cell_type": "markdown",
   "id": "1c893ac9",
   "metadata": {},
   "source": [
    "#### 2.1 : How Git Stores Information\n",
    "\n",
    "Git uses a three-level structure for storing information with each commit command that is made.\n",
    "\n",
    "1. Commit contains metadata (author, commit message, time commit happened). \n",
    "\n",
    "2. Each commit also has a tree, which tracks the names and locations in the repository when that commit happened. \n",
    "\n",
    "3. There is a blob (binary large object) for each of the files listed in the tree. This contains a compressed snapshot of the contents of the file when the commit happened."
   ]
  },
  {
   "cell_type": "markdown",
   "id": "80879199",
   "metadata": {},
   "source": [
    "#### 2.2 Hash\n",
    "\n",
    "Hash -\n",
    "- unique identifier for every commit to a repository\n",
    "- \"hash function\" is a pseudo-random number generator creating the hash\n",
    "- written as a 40-character hexadecimal string\n",
    "- most of the time, one can give Git the first 6-8 characters in order to identify the commit one means\n",
    "- enables Git to share data efficiently between repositories"
   ]
  },
  {
   "cell_type": "markdown",
   "id": "0c9818cd",
   "metadata": {},
   "source": [
    "#### 2.3 : View A Specific Commit\n",
    "\n",
    "\"git show\"\n",
    "- view the details of a specific commit\n",
    "\n",
    "for example,\n",
    "\n",
    "commit 0da2f7ad11664ca9ed933c1ccd1f3cd24d481e42\n",
    "\n",
    "Author: Rep Loop <repl@datacamp.com>\n",
    "\n",
    "Date:   Wed Sep 5 15:39:18 2018 +0000\n",
    "\n",
    "    Added year to report title.\n",
    "\n",
    "diff --git a/report.txt b/report.txt\n",
    "\n",
    "index e713b17..4c0742a 100644\n",
    "\n",
    "--- a/report.txt\n",
    "\n",
    "+++ b/report.txt\n",
    "\n",
    "@@ -1,4 +1,4 @@\n",
    "\n",
    "-# Seasonal Dental Surgeries 2017-18\n",
    "\n",
    "+# Seasonal Dental Surgeries (2017) 2017-18\n",
    "\n",
    " TODO: write executive summary.\n",
    " \n",
    " - first part is the same as \"git log\"\n",
    " - second part is the same as \"git diff\"\n",
    " - lines that are removed are prefixed with \"-\"\n",
    " - lines that are added are prefixed with \"+\""
   ]
  },
  {
   "cell_type": "markdown",
   "id": "572aedbc",
   "metadata": {},
   "source": [
    "#### 2.4 Head\n",
    "\n",
    "\"Hash\" is an absolute path as it identifies a specific commit.\n",
    "\n",
    "\"HEAD\" -\n",
    "\n",
    "- equivalent of a relative path\n",
    "- refers to the most recent commit\n",
    "\n",
    "\"HEAD~[n]\" = n commit before the most recent one"
   ]
  },
  {
   "cell_type": "code",
   "execution_count": 5,
   "id": "24fc4f17",
   "metadata": {},
   "outputs": [
    {
     "ename": "SyntaxError",
     "evalue": "invalid syntax (3890327760.py, line 1)",
     "output_type": "error",
     "traceback": [
      "\u001b[0;36m  File \u001b[0;32m\"/var/folders/rk/bh4t4yvn2vs7xq2gvjh418d80005gq/T/ipykernel_66157/3890327760.py\"\u001b[0;36m, line \u001b[0;32m1\u001b[0m\n\u001b[0;31m    $git show\u001b[0m\n\u001b[0m    ^\u001b[0m\n\u001b[0;31mSyntaxError\u001b[0m\u001b[0;31m:\u001b[0m invalid syntax\n"
     ]
    }
   ],
   "source": [
    "$git show"
   ]
  },
  {
   "cell_type": "markdown",
   "id": "976287a7",
   "metadata": {},
   "source": [
    "#### 2.5 Annotate File\n",
    "\n",
    "\"git log\"\n",
    "- displays the overall history of a project or file\n",
    "\n",
    "\"git annotate file\"\n",
    "- shows who made the lasy change to each line of a file and when\n",
    "- prints as follows :\n",
    "\n",
    "04307054        (  Rep Loop     2017-09-20 13:42:26 +0000       1)# Seasonal Dental Surgeries (2017) 2017-18\n",
    "\n",
    "5e6f92b6        (  Rep Loop     2017-09-20 13:42:26 +0000       2)\n",
    "\n",
    "5e6f92b6        (  Rep Loop     2017-09-20 13:42:26 +0000       3)TODO: write executive summary.\n",
    "\n",
    "- (1) first eight digits of the has\n",
    "- (2) author (Rep Loop)\n",
    "- (3) time of the commit \n",
    "- (4) line number\n",
    "- (5) contents of the line"
   ]
  },
  {
   "cell_type": "markdown",
   "id": "e1957891",
   "metadata": {},
   "source": [
    "#### 2.6 \"Git Show\"\n",
    "\n",
    "\"git show [ID1]\"\n",
    "- shows the changes made in a particular commit\n",
    "\n",
    "\"git diff [ID1]..[ID2]\"\n",
    "- shows the changes between two commits\n",
    "\n",
    "\"git diff HEAD~ [N]..HEAD~ [NN]\"\n",
    "- shows the changes between the state of the repository one commit in the past and its state NN commits in the past"
   ]
  },
  {
   "cell_type": "markdown",
   "id": "df6fe290",
   "metadata": {},
   "source": [
    "#### 2.7 Add New Files\n",
    "\n",
    "\"gif add\"\n",
    "- run at least once so Git will track file by default\n",
    "- untracked files won't have a blob and won't benefit from version control\n",
    "\n",
    "\"git status\"\n",
    "- shows files that are in the repository but aren't being tracked"
   ]
  },
  {
   "cell_type": "markdown",
   "id": "c3a908b7",
   "metadata": {},
   "source": [
    "#### 2.8 Ignore Certain Files\n",
    "\n",
    ".gitignore\n",
    "- One can tell Git to stop paying attention to files by creating a file in the root directory of the repository and storing a list of \"wildcard\" patterns to specify these files\n",
    "\n",
    "for example, if .gitignore contains :\n",
    "\n",
    "build\n",
    "\n",
    "*.mpl\n",
    "\n",
    "then Git will ignore any file or directory called \"build\" and any file ending with \".mpl\""
   ]
  },
  {
   "cell_type": "markdown",
   "id": "6e8a499a",
   "metadata": {},
   "source": [
    "#### 2.9 Remove Unwanted Files\n",
    "\n",
    "Git can help clean up files that Git has been told one doesn't want.\n",
    "\n",
    "\"git clean -n\"\n",
    "- shows a list of files that are in the repository, but whose history Git is not currently tracking.\n",
    "\n",
    "\"git clean -f\"\n",
    "- deletes untracked files"
   ]
  },
  {
   "cell_type": "markdown",
   "id": "ca977787",
   "metadata": {},
   "source": [
    "#### 2.10 How Git Is Configured\n",
    "\n",
    "Git allows changes to its default settings.\n",
    "\n",
    "\"git config --list\"\n",
    "- see what the settings are\n",
    "\n",
    "\"git config --list --system\"\n",
    "- settings for every user on this computer\n",
    "\n",
    "\"git config --list --global\"\n",
    "- settings for every one of the projects\n",
    "\n",
    "\"git config --list --local\"\n",
    "- settings for specific project\n",
    "\n",
    "Each level overrides the one above it, so\n",
    "- local settings (per-project) takes precendence over\n",
    "- global settings (per-user) takes precendence over\n",
    "- system settings (for all users on the computer)"
   ]
  },
  {
   "cell_type": "markdown",
   "id": "1447eb31",
   "metadata": {},
   "source": [
    "#### 2.11 Change Git Config\n",
    "\n",
    "Set name and email for every computer one uses as these record in the log every time one commit a change.\n",
    "\n",
    "\"git config --global [setting] [value]\"\n",
    "- to change a configuration value for all projects on a particular computer\n",
    "- specify the setting to be changed and the value to be set (name and email addresses are 'user.name' and 'user.email')"
   ]
  },
  {
   "cell_type": "markdown",
   "id": "5e30193a",
   "metadata": {},
   "source": [
    "### 3.0 Undo"
   ]
  },
  {
   "cell_type": "markdown",
   "id": "80796e1a",
   "metadata": {},
   "source": [
    "#### 3.1 Commit Changes Selectively\n",
    "\n",
    "\"git add path/to/file\"\n",
    "- for staging a single file\n",
    "\n",
    "\"git reset HEAD\"\n",
    "- unstage a file "
   ]
  },
  {
   "cell_type": "code",
   "execution_count": 6,
   "id": "ed9c7690",
   "metadata": {},
   "outputs": [
    {
     "ename": "SyntaxError",
     "evalue": "invalid syntax (2581258077.py, line 3)",
     "output_type": "error",
     "traceback": [
      "\u001b[0;36m  File \u001b[0;32m\"/var/folders/rk/bh4t4yvn2vs7xq2gvjh418d80005gq/T/ipykernel_66157/2581258077.py\"\u001b[0;36m, line \u001b[0;32m3\u001b[0m\n\u001b[0;31m    $ cd dental\u001b[0m\n\u001b[0m    ^\u001b[0m\n\u001b[0;31mSyntaxError\u001b[0m\u001b[0;31m:\u001b[0m invalid syntax\n"
     ]
    }
   ],
   "source": [
    "# Exercise 5 : from the ouput of \"git status\", two files were changed:\n",
    "\n",
    "$ cd dental\n",
    "$ git status\n",
    "On branch masterChanges not staged for commit:\n",
    "  (use \"git add <file>...\" to update what will be committed)\n",
    "  (use \"git checkout -- <file>...\" to discard changes in working directory)\n",
    "\n",
    "        modified:   data/eastern.csv\n",
    "        modified:   data/northern.csv\n",
    "\n",
    "no changes added to commit (use \"git add\" and/or \"git commit -a\")\n",
    "\n",
    "#stage only the changes made to data/northern.csv\n",
    "\n",
    "$ git add data/northern.csv \n",
    "\n",
    "$ git commit --amend -m \"Adding data from northern region.\""
   ]
  },
  {
   "cell_type": "markdown",
   "id": "33ffc234",
   "metadata": {},
   "source": [
    "#### 3.2 Re-Stage Files\n",
    "\n",
    "Use \"git add\" periodically to save the most recent changes to a file to the staging area. \n",
    "\n",
    "This is particuarly useful when the changes are experimental and one might want to undo them without cluttering up the repository's history."
   ]
  },
  {
   "cell_type": "markdown",
   "id": "3b35e920",
   "metadata": {},
   "source": [
    "#### 3.3 Undo Changes to Unstaged Files + Restore An Old Version of a File\n",
    "\n",
    "\"git checkout -- filename\"\n",
    "- discards the changes that have not yet been staged files\n",
    "- command can be used to go back even further in a file's history and restore versions\n",
    "\n",
    "Think of \"commit\" as saving the work and \"checkout\" as loading that saved version.\n",
    "\n",
    "Restoring an old version takes two arguments : \n",
    "- (1) the hash that identifies the version one wants to restore\n",
    "- (2) name of the file\n",
    "\n",
    "Restoring a file doesn't erase any of the repository's history, instead the file is saved as another commit.\n",
    "\n",
    "\"git log -[N] [file]\"\n",
    "- restricts the output to N commits"
   ]
  },
  {
   "cell_type": "markdown",
   "id": "87e7e9c0",
   "metadata": {},
   "source": [
    "#### 3.4 Undo Changes to Staged Files\n",
    "\n",
    "\"git reset\"\n",
    "- will unstage files that were previously staged used \"git add\"\n",
    "\n",
    "\n",
    "\"git reset HEAD path/to/file\"\n",
    "\"git checkout -- path/to/file\"\n",
    "- combine these two commands to undo changes to a file that one staged changes to\n",
    "\n"
   ]
  },
  {
   "cell_type": "markdown",
   "id": "53c9c5ed",
   "metadata": {},
   "source": [
    "#### 3.5 Undo All Changes\n",
    "\n",
    "\"git reset HEAD [directory]\"\n",
    "- will unstage any files from the directory\n",
    "\n",
    "\"git reset\"\n",
    "- unstages everything\n",
    "\n",
    "\"git checkout -- [directory]\"\n",
    "- restore the files in the directory to their previous state\n",
    "\n",
    "\"git checkout -- .\"\n",
    "- revert all files in the current directory"
   ]
  },
  {
   "cell_type": "markdown",
   "id": "2c5b4f95",
   "metadata": {},
   "source": [
    "### 4.0 Working With Branches"
   ]
  },
  {
   "cell_type": "markdown",
   "id": "56d2576a",
   "metadata": {},
   "source": [
    "#### 4.1 : Branches\n",
    "\n",
    "If one does not use version control, a common workflow is to create different subdirectoriese to hold different versions of the project in different states (e.g. \"development\" and \"final). However it is easy to lose track of the versions.\n",
    "\n",
    "Git supports the creation of branches, which allows for multiple version of the prokect and tracking each version systematically.\n",
    "\n",
    "Changes to once branch do not affect the other branches until they are merged back together. \n",
    "\n",
    "Blobs for files.\n",
    "\n",
    "Trees for saved states of the repositories.\n",
    "\n",
    "Commits record the changes. \n",
    "\n",
    "Branches are the reason Git needs both trees and commits."
   ]
  },
  {
   "cell_type": "markdown",
   "id": "fe1f52c5",
   "metadata": {},
   "source": [
    "#### 4.2 : How To See What Branches The Repository Has\n",
    "\n",
    "By default, every Git repository has a branch called \"master\".\n",
    "\n",
    "\"git branch\"\n",
    "- to list all the of the branches in a repository\n",
    "\n",
    "The branch one is currently in it will be shown with a \" * \" beside its name."
   ]
  },
  {
   "cell_type": "markdown",
   "id": "da72391a",
   "metadata": {},
   "source": [
    "#### 4.3 : View The Differences Between Branches\n",
    "\n",
    "Branches and revisions are closely connected.\n",
    "\n",
    "\"git diff revision-1..revision-2\"\n",
    "- shows the difference between two version of a repository\n",
    "\n",
    "\"git diff branch-1..branch-2\"\n",
    "- shows the difference between two branches"
   ]
  },
  {
   "cell_type": "markdown",
   "id": "268ba02f",
   "metadata": {},
   "source": [
    "#### 4.4 Switch From One Branch To Another\n",
    "\n",
    "\"git checkout\"\n",
    "- commit has to switch the repository state to that has\n",
    "\n",
    "\"git checkout [branch-name] \n",
    "- to switch to that branch\n",
    "- must commit changes first"
   ]
  },
  {
   "cell_type": "markdown",
   "id": "6b23b3e1",
   "metadata": {},
   "source": [
    "#### 4.5 : Create Branch\n",
    "\n",
    "\"git checkout -b [branch-name]\n",
    "- create a branch then switch to it\n",
    "\n",
    "The contents of the new branch are initally identical to the contents of the original. Once one starts making changes, they only affect the new branch."
   ]
  },
  {
   "cell_type": "markdown",
   "id": "be5b3672",
   "metadata": {},
   "source": [
    "#### 4.6 Merge Two Branches\n",
    "\n",
    "When merging one branch (\"source\") into another (\"destination\"), Git incorporates the changes made to the source into the destination branch.\n",
    "\n",
    "If the changes don't overlap, the result is a new commit in the destination branch that includes everything from the source branch.\n",
    "\n",
    "\"git merge [source] [destination]\"\n",
    "- merges two branches\n",
    "\n",
    "Git automatically opens an editor so that a log message for the merge can be written."
   ]
  },
  {
   "cell_type": "markdown",
   "id": "58faac8d",
   "metadata": {},
   "source": [
    "#### 4.7 : Conflicts\n",
    "\n",
    "Sometimes the changes in two branches will conflict with each other.\n",
    "\n",
    "For example, bug fixes might touch the same lines of code, or analyses in two different branches may both append new (and different) records to a summary data file. In this case, Git relies on the user to reconcile the conflicting changes."
   ]
  },
  {
   "cell_type": "markdown",
   "id": "6309f5c2",
   "metadata": {},
   "source": [
    "#### 4.8 : Merge Two Branches with Conflicts\n",
    "\n",
    "If the \"git merge\" command fails due to a conflict, run \"git status\" which reminds the user which files have conflicts that need be resolved by printing \"both modified:\" besides the files' names."
   ]
  },
  {
   "cell_type": "code",
   "execution_count": null,
   "id": "be786738",
   "metadata": {},
   "outputs": [],
   "source": [
    "#For example,\n",
    "\n",
    "$ cd dental\n",
    "$ git branch\n",
    "\n",
    "#      alter-report-title\n",
    "#    * master\n",
    "#      summary-statistics\n",
    "\n",
    "$ git merge alter-report-title master\n",
    "\n",
    "#    Auto-merging report.txt\n",
    "#    CONFLICT (content): Merge conflict in report.txt\n",
    "#    Automatic merge failed; fix conflicts and then commit the result.\n",
    "    \n",
    "$ git status\n",
    "\n",
    "#    On branch master\n",
    "#    You have unmerged paths.\n",
    "#      (fix conflicts and run \"git commit\")\n",
    "#    Unmerged paths:\n",
    "#      (use \"git add <file>...\" to mark resolution)\n",
    "#            both modified:   report.txt\n",
    "#    no changes added to commit (use \"git add\" and/or \"git commit -a\")\n",
    "\n",
    "$ nano report.txt\n",
    "\n",
    "# made edits to the file\n",
    "\n",
    "$ git add report.txt\n",
    "\n",
    "# add the merged file to the stagign area\n",
    "\n",
    "$ git commit -m \"log message\""
   ]
  },
  {
   "cell_type": "markdown",
   "id": "e48af0ef",
   "metadata": {},
   "source": [
    "### 5.0 : Collaborating"
   ]
  },
  {
   "cell_type": "markdown",
   "id": "f8b7a5e8",
   "metadata": {},
   "source": [
    "#### 5.1 : Create Brand New Repository\n",
    "\n",
    "\"git init [project-name]\"\n",
    "- create a repository fo ra new project in the current working directory"
   ]
  },
  {
   "cell_type": "markdown",
   "id": "45d7ea56",
   "metadata": {},
   "source": [
    "#### 5.2 : Turn An Existing Project Into A Git Repository\n",
    "\n",
    "\"git init\" in the project's root directory or \n",
    "\n",
    "\"git init /path/to/project\""
   ]
  },
  {
   "cell_type": "markdown",
   "id": "c5873e45",
   "metadata": {},
   "source": [
    "#### 5.3 : Create a Copy of an Existing Repository\n",
    "\n",
    "\"git clone [URL or /existing/project] [new-project-name]\n",
    "- create a copy of an existing repository"
   ]
  },
  {
   "cell_type": "markdown",
   "id": "4d867d55",
   "metadata": {},
   "source": [
    "#### 5.4 : Find Out Where a Cloned Repository Originated\n",
    "\n",
    "Remotes are stored in the new repository's configuration to remember where the original repository was.\n",
    "\n",
    "\"git remote -v\"\n",
    "- can list the names of its remotes, adding \"-v\" gives the verbose version"
   ]
  },
  {
   "cell_type": "markdown",
   "id": "746c0145",
   "metadata": {},
   "source": [
    "#### 5.5 : Define Remotes\n",
    "\n",
    "When a repository is cloned, Git automatically creates a remote called \"origin\" that points to the original repository.\n",
    "\n",
    "\"git remote add [remote-name] [URL]\"\n",
    "- add more remotes\n",
    "\n",
    "\"git remote rm [remote-name]\"\n",
    "- remove exisiting remote"
   ]
  },
  {
   "cell_type": "markdown",
   "id": "b651e307",
   "metadata": {},
   "source": [
    "#### 5.6 : Pull In Changes From a Remote Repository\n",
    "\n",
    "Git keeps track of remote repositories so that one can pull changes from those repositories and push changes to them.\n",
    "\n",
    "Remote repositories are often a repository in an online hosting service (e.g. Github).\n",
    "\n",
    "A typical workflow is that the collaborator's work is pulled from the remote repository, do one's own work, and then push the work back to the remote so that the collaborator can access it.\n",
    "\n",
    "\"git pull [remote] [branch]\"\n",
    "- gets everything in branch in the remote repository \"remote\" and merges it into the current branch of one's local repository\n",
    "\n",
    "One will not be able to pulling in changes from a remote repository when doing so might overwrite things one has done locally. Either commit the local changes or revert them (\"git checkout -- .\") and try again."
   ]
  },
  {
   "cell_type": "markdown",
   "id": "f104e551",
   "metadata": {},
   "source": [
    "#### 5.7 : Push My Changes To a Remote Repository\n",
    "\n",
    "\"git push [remote] [branch]\"\n",
    "- pushes changes made locally into a remote repository"
   ]
  },
  {
   "cell_type": "code",
   "execution_count": null,
   "id": "49f976ad",
   "metadata": {},
   "outputs": [],
   "source": [
    "# add file to the staging area\n",
    "\n",
    "$ git add data/northern.csv\n",
    "\n",
    "# commit changes with message\n",
    "\n",
    "$ git commit data/northern.csv -m \"Added more n/tmp/tmp4zsq2cjr/hookorthern data.\"\n",
    "\n",
    "# push changes to the remote repository\n",
    "\n",
    "$ git push origin master"
   ]
  },
  {
   "cell_type": "markdown",
   "id": "209e8ec3",
   "metadata": {},
   "source": [
    "#### 5.8 : Push Conflicts with Someone Else's Work\n",
    "\n",
    "Git does not allow one to push changes to a remote repository unless one has merged the contents of the remote repository into one's own work."
   ]
  },
  {
   "cell_type": "code",
   "execution_count": null,
   "id": "73399ec8",
   "metadata": {},
   "outputs": [],
   "source": [
    "# push those changes to the remote repository \n",
    "\n",
    "$ git push origin master\n",
    "\n",
    "# if this command fails, use git pull to bring one's repository \n",
    "# up to date.\n",
    "\n",
    "$ git pull origin master\n",
    "\n",
    "# try push again now that the remote repository's state has merged\n",
    "# with the local repository\n",
    "\n",
    "$ git push origin master"
   ]
  }
 ],
 "metadata": {
  "kernelspec": {
   "display_name": "Python 3 (ipykernel)",
   "language": "python",
   "name": "python3"
  },
  "language_info": {
   "codemirror_mode": {
    "name": "ipython",
    "version": 3
   },
   "file_extension": ".py",
   "mimetype": "text/x-python",
   "name": "python",
   "nbconvert_exporter": "python",
   "pygments_lexer": "ipython3",
   "version": "3.9.13"
  }
 },
 "nbformat": 4,
 "nbformat_minor": 5
}
